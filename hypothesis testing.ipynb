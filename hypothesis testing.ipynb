{
 "cells": [
  {
   "cell_type": "code",
   "execution_count": null,
   "id": "be59272a-7d79-457d-83a3-84347916bf60",
   "metadata": {},
   "outputs": [],
   "source": [
    "hypothesis testing \n",
    "\n",
    "Q1.Suppose a child psychologist claims that the average time working \n",
    "mothers spend talking to their children is at least 11 minutes per day. \n",
    "You conduct a random sample of 1000 working mothers and find they \n",
    "spend an average of 11.5 minutes per day talking with their children.\n",
    "Assume prior research suggests the population standard deviation is 2.3 minutes . \n",
    "Conduct a test with a level of significance of alpha = 0.05. \n",
    "\n",
    "\n",
    "\n",
    "State the hypothesis\n",
    "\n",
    "\n",
    "null hypothesis\n",
    "\n",
    "Ho = μ ≤ 11 minutes\n",
    "\n",
    "alternate hypothesis\n",
    "\n",
    "Ha = μ > 11 minutes\n",
    "\n",
    "Set the significance level\n",
    "\n",
    "α = 0.05 minutes\n",
    "\n",
    "Calculate the test statistics we will use the z-test stastics formula\n",
    "\n",
    "x̄ = 11.5 minutes (sample mean) μ = 11 minutes (population mean under the null hypothesis) σ = 2.3 minutes (population standard deviation)\n",
    "n = 1000 (sample size)\n",
    "Z=(x̄ - μ)/(σ/√n)"
   ]
  },
  {
   "cell_type": "code",
   "execution_count": 1,
   "id": "1b81aa4e-14c5-430e-8d5c-6a98596349ff",
   "metadata": {},
   "outputs": [],
   "source": [
    "import math"
   ]
  },
  {
   "cell_type": "code",
   "execution_count": 2,
   "id": "26f1e537-201d-4c55-9fad-da17344bc8d1",
   "metadata": {},
   "outputs": [],
   "source": [
    "alpha = 0.05\n",
    "std = 2.3\n",
    "n =1000\n",
    "n_mean = 11.5\n",
    "populataion_mean =11"
   ]
  },
  {
   "cell_type": "code",
   "execution_count": 3,
   "id": "c01e40ee-a34a-4fac-bae7-4bb30d387fc5",
   "metadata": {},
   "outputs": [],
   "source": [
    "#Hypothesis testing\n",
    "z_test = (n_mean - populataion_mean) / (std/math.sqrt(n))"
   ]
  },
  {
   "cell_type": "code",
   "execution_count": 4,
   "id": "0ea4c8ac-cf82-4356-b251-598a231573ba",
   "metadata": {},
   "outputs": [
    {
     "data": {
      "text/plain": [
       "6.874516652539955"
      ]
     },
     "execution_count": 4,
     "metadata": {},
     "output_type": "execute_result"
    }
   ],
   "source": [
    "Z=(11.5-11)/(2.3)*(math.sqrt(1000))\n",
    "Z"
   ]
  },
  {
   "cell_type": "code",
   "execution_count": 5,
   "id": "e0d095e5-2deb-4977-a040-24df980cde16",
   "metadata": {},
   "outputs": [
    {
     "name": "stdout",
     "output_type": "stream",
     "text": [
      "Critical value: 1.6448536269514722\n"
     ]
    }
   ],
   "source": [
    "import scipy.stats as st\n",
    "alpha = 0.05 \n",
    "\n",
    "\n",
    "z_critical = st.norm.ppf(1 - alpha)\n",
    "print(\"Critical value:\", z_critical)"
   ]
  },
  {
   "cell_type": "code",
   "execution_count": null,
   "id": "c7801e56-2c59-45b9-9ac8-4ced7e67ec4c",
   "metadata": {},
   "outputs": [],
   "source": [
    "critical value for a z-score corresponding to an alpha of 0.05 from z-distribution table is 1.645. \n",
    "\n",
    "\n",
    "\n",
    "\n",
    "\n",
    "SINCE OUR CALCULATED Z-VALUE 6.8745 \n",
    "WHICH GREATER THAN THE CRITICAL \n",
    "VALUE 1.645 WE REJECT THE NULL HYPOTHESIS"
   ]
  },
  {
   "cell_type": "code",
   "execution_count": null,
   "id": "1f8216e1-59b1-4eff-bab6-8e7cbf4ff9cc",
   "metadata": {},
   "outputs": [],
   "source": [
    "Q2. A coffee shop claims that their average wait time for                             \n",
    "customers is less than 5 minutes.\n",
    "To test this claim, a sample of 40 customers is taken,and their wait times are recorded. \n",
    "The sample mean wait time is found to be 4.6 minutes with a standard deviation of 0.8 minutes.\n",
    "Perform a hypothesis test at a significance level of 0.05 and determine whether there is\n",
    "enough evidence to support the coffee shop's claim.\n",
    "\n",
    "\n",
    "\n",
    "null hypothesis\n",
    "\n",
    "Ho = μ > 5 minutes\n",
    "\n",
    "alternate hypothesis\n",
    "\n",
    "Ha = μ <5 minutes\n",
    "\n",
    "x̄ = 4.6 minutes (sample mean) \n",
    "\n",
    "μ = 5 minutes (population mean) \n",
    "\n",
    "σ = 0.8 minutes (sample standard deviation) \n",
    "\n",
    "n = 40 (sample size) \n",
    "\n",
    "α = 0.05 (significance level) \n",
    "\n",
    "Degree of freedom(n-1) = 39"
   ]
  },
  {
   "cell_type": "code",
   "execution_count": 6,
   "id": "44e5e247-ef50-4e09-bc2b-c3b27cdd045c",
   "metadata": {},
   "outputs": [],
   "source": [
    "population_tmean = 5\n",
    "sample_tmean =4.6\n",
    "sample_size = 40\n",
    "std_t = 0.8\n",
    "alpha = 0.05"
   ]
  },
  {
   "cell_type": "code",
   "execution_count": null,
   "id": "f75e6d4f-23df-43aa-b005-c64a41cc6482",
   "metadata": {},
   "outputs": [],
   "source": [
    "The t-test works well when \n",
    "we don't know \n",
    "the population standard deviation,  \n",
    "especially for smaller groups,  \n",
    "usually less than 30. But it's \n",
    "still good to use even for bigger groups, over 30.  \n",
    "This is because of the Central Limit Theorem,  \n",
    "which says that as our group size gets bigger, \n",
    "our average values act more like they're  \n",
    "from a normal distribution. So, \n",
    "no matter if our group is small or big,  \n",
    "the t-test is a reliable way to check things.\n",
    " "
   ]
  },
  {
   "cell_type": "code",
   "execution_count": 7,
   "id": "23986ac7-8f1f-4c9d-801d-a15ee8585ce0",
   "metadata": {},
   "outputs": [
    {
     "data": {
      "text/plain": [
       "-3.162277660168382"
      ]
     },
     "execution_count": 7,
     "metadata": {},
     "output_type": "execute_result"
    }
   ],
   "source": [
    "t_test =  (sample_tmean - population_tmean) / (0.8/math.sqrt(sample_size))\n",
    "t_test"
   ]
  },
  {
   "cell_type": "code",
   "execution_count": 9,
   "id": "4f5d1263-bbf6-4ca9-9773-73ddf63f4c76",
   "metadata": {},
   "outputs": [
    {
     "name": "stdout",
     "output_type": "stream",
     "text": [
      "Critical value: 1.6848751217112248\n"
     ]
    }
   ],
   "source": [
    "from scipy.stats import t \n",
    "\n",
    "# Degrees of freedom\n",
    "df = 40 - 1  # Sample size minus 1 \n",
    "\n",
    "\n",
    "alpha = 0.05 \n",
    "\n",
    "# Find critical value\n",
    "t_critical = t.ppf(1 - alpha, df) \n",
    "\n",
    "\n",
    "print(\"Critical value:\", t_critical)"
   ]
  },
  {
   "cell_type": "code",
   "execution_count": null,
   "id": "94debf4b-084c-4c97-81aa-b8c55317a006",
   "metadata": {},
   "outputs": [],
   "source": []
  },
  {
   "cell_type": "code",
   "execution_count": null,
   "id": "9d25143c-be8d-42af-becd-5a0cbc124445",
   "metadata": {},
   "outputs": [],
   "source": [
    "t = (x̄ - μ) / (σ / √n)  \n",
    "\n"
   ]
  },
  {
   "cell_type": "code",
   "execution_count": null,
   "id": "100deca8-63d3-4d03-b311-d90a80b7b27c",
   "metadata": {},
   "outputs": [],
   "source": [
    "Since our calculated t-value -3.162 \n",
    "which is less than the critical value -1.645, \n",
    "we reject the null hypothesis."
   ]
  },
  {
   "cell_type": "code",
   "execution_count": null,
   "id": "3a7cf604-ec32-4040-8e9d-3df65219b360",
   "metadata": {},
   "outputs": [],
   "source": []
  }
 ],
 "metadata": {
  "kernelspec": {
   "display_name": "Python 3 (ipykernel)",
   "language": "python",
   "name": "python3"
  },
  "language_info": {
   "codemirror_mode": {
    "name": "ipython",
    "version": 3
   },
   "file_extension": ".py",
   "mimetype": "text/x-python",
   "name": "python",
   "nbconvert_exporter": "python",
   "pygments_lexer": "ipython3",
   "version": "3.12.1"
  }
 },
 "nbformat": 4,
 "nbformat_minor": 5
}
